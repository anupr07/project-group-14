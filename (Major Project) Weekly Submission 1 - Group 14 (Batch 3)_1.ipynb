{
 "cells": [
  {
   "cell_type": "markdown",
   "id": "f3c14a5c",
   "metadata": {},
   "source": [
    "# Major Project: Weekly Submission 1 - Group 14 (Batch 3)"
   ]
  },
  {
   "cell_type": "code",
   "execution_count": 1,
   "id": "c600b06e",
   "metadata": {},
   "outputs": [],
   "source": [
    "import numpy as np\n",
    "import pandas as pd\n",
    "import matplotlib.pyplot as plt\n",
    "import seaborn as sns"
   ]
  },
  {
   "cell_type": "markdown",
   "id": "035c0d2f",
   "metadata": {},
   "source": [
    "## Loading the dataset into the python environment"
   ]
  },
  {
   "cell_type": "code",
   "execution_count": 2,
   "id": "6c70f977",
   "metadata": {},
   "outputs": [
    {
     "data": {
      "text/html": [
       "<div>\n",
       "<style scoped>\n",
       "    .dataframe tbody tr th:only-of-type {\n",
       "        vertical-align: middle;\n",
       "    }\n",
       "\n",
       "    .dataframe tbody tr th {\n",
       "        vertical-align: top;\n",
       "    }\n",
       "\n",
       "    .dataframe thead th {\n",
       "        text-align: right;\n",
       "    }\n",
       "</style>\n",
       "<table border=\"1\" class=\"dataframe\">\n",
       "  <thead>\n",
       "    <tr style=\"text-align: right;\">\n",
       "      <th></th>\n",
       "      <th>_unit_id</th>\n",
       "      <th>_golden</th>\n",
       "      <th>_unit_state</th>\n",
       "      <th>_trusted_judgments</th>\n",
       "      <th>_last_judgment_at</th>\n",
       "      <th>gender</th>\n",
       "      <th>gender:confidence</th>\n",
       "      <th>profile_yn</th>\n",
       "      <th>profile_yn:confidence</th>\n",
       "      <th>created</th>\n",
       "      <th>...</th>\n",
       "      <th>profileimage</th>\n",
       "      <th>retweet_count</th>\n",
       "      <th>sidebar_color</th>\n",
       "      <th>text</th>\n",
       "      <th>tweet_coord</th>\n",
       "      <th>tweet_count</th>\n",
       "      <th>tweet_created</th>\n",
       "      <th>tweet_id</th>\n",
       "      <th>tweet_location</th>\n",
       "      <th>user_timezone</th>\n",
       "    </tr>\n",
       "  </thead>\n",
       "  <tbody>\n",
       "    <tr>\n",
       "      <th>0</th>\n",
       "      <td>815719226</td>\n",
       "      <td>False</td>\n",
       "      <td>finalized</td>\n",
       "      <td>3</td>\n",
       "      <td>10/26/15 23:24</td>\n",
       "      <td>male</td>\n",
       "      <td>1.0000</td>\n",
       "      <td>yes</td>\n",
       "      <td>1.0</td>\n",
       "      <td>12/5/13 1:48</td>\n",
       "      <td>...</td>\n",
       "      <td>https://pbs.twimg.com/profile_images/414342229...</td>\n",
       "      <td>0</td>\n",
       "      <td>FFFFFF</td>\n",
       "      <td>Robbie E Responds To Critics After Win Against...</td>\n",
       "      <td>NaN</td>\n",
       "      <td>110964</td>\n",
       "      <td>10/26/15 12:40</td>\n",
       "      <td>6.587300e+17</td>\n",
       "      <td>main; @Kan1shk3</td>\n",
       "      <td>Chennai</td>\n",
       "    </tr>\n",
       "    <tr>\n",
       "      <th>1</th>\n",
       "      <td>815719227</td>\n",
       "      <td>False</td>\n",
       "      <td>finalized</td>\n",
       "      <td>3</td>\n",
       "      <td>10/26/15 23:30</td>\n",
       "      <td>male</td>\n",
       "      <td>1.0000</td>\n",
       "      <td>yes</td>\n",
       "      <td>1.0</td>\n",
       "      <td>10/1/12 13:51</td>\n",
       "      <td>...</td>\n",
       "      <td>https://pbs.twimg.com/profile_images/539604221...</td>\n",
       "      <td>0</td>\n",
       "      <td>C0DEED</td>\n",
       "      <td>���It felt like they were my friends and I was...</td>\n",
       "      <td>NaN</td>\n",
       "      <td>7471</td>\n",
       "      <td>10/26/15 12:40</td>\n",
       "      <td>6.587300e+17</td>\n",
       "      <td>NaN</td>\n",
       "      <td>Eastern Time (US &amp; Canada)</td>\n",
       "    </tr>\n",
       "    <tr>\n",
       "      <th>2</th>\n",
       "      <td>815719228</td>\n",
       "      <td>False</td>\n",
       "      <td>finalized</td>\n",
       "      <td>3</td>\n",
       "      <td>10/26/15 23:33</td>\n",
       "      <td>male</td>\n",
       "      <td>0.6625</td>\n",
       "      <td>yes</td>\n",
       "      <td>1.0</td>\n",
       "      <td>11/28/14 11:30</td>\n",
       "      <td>...</td>\n",
       "      <td>https://pbs.twimg.com/profile_images/657330418...</td>\n",
       "      <td>1</td>\n",
       "      <td>C0DEED</td>\n",
       "      <td>i absolutely adore when louis starts the songs...</td>\n",
       "      <td>NaN</td>\n",
       "      <td>5617</td>\n",
       "      <td>10/26/15 12:40</td>\n",
       "      <td>6.587300e+17</td>\n",
       "      <td>clcncl</td>\n",
       "      <td>Belgrade</td>\n",
       "    </tr>\n",
       "    <tr>\n",
       "      <th>3</th>\n",
       "      <td>815719229</td>\n",
       "      <td>False</td>\n",
       "      <td>finalized</td>\n",
       "      <td>3</td>\n",
       "      <td>10/26/15 23:10</td>\n",
       "      <td>male</td>\n",
       "      <td>1.0000</td>\n",
       "      <td>yes</td>\n",
       "      <td>1.0</td>\n",
       "      <td>6/11/09 22:39</td>\n",
       "      <td>...</td>\n",
       "      <td>https://pbs.twimg.com/profile_images/259703936...</td>\n",
       "      <td>0</td>\n",
       "      <td>C0DEED</td>\n",
       "      <td>Hi @JordanSpieth - Looking at the url - do you...</td>\n",
       "      <td>NaN</td>\n",
       "      <td>1693</td>\n",
       "      <td>10/26/15 12:40</td>\n",
       "      <td>6.587300e+17</td>\n",
       "      <td>Palo Alto, CA</td>\n",
       "      <td>Pacific Time (US &amp; Canada)</td>\n",
       "    </tr>\n",
       "    <tr>\n",
       "      <th>4</th>\n",
       "      <td>815719230</td>\n",
       "      <td>False</td>\n",
       "      <td>finalized</td>\n",
       "      <td>3</td>\n",
       "      <td>10/27/15 1:15</td>\n",
       "      <td>female</td>\n",
       "      <td>1.0000</td>\n",
       "      <td>yes</td>\n",
       "      <td>1.0</td>\n",
       "      <td>4/16/14 13:23</td>\n",
       "      <td>...</td>\n",
       "      <td>https://pbs.twimg.com/profile_images/564094871...</td>\n",
       "      <td>0</td>\n",
       "      <td>0</td>\n",
       "      <td>Watching Neighbours on Sky+ catching up with t...</td>\n",
       "      <td>NaN</td>\n",
       "      <td>31462</td>\n",
       "      <td>10/26/15 12:40</td>\n",
       "      <td>6.587300e+17</td>\n",
       "      <td>NaN</td>\n",
       "      <td>NaN</td>\n",
       "    </tr>\n",
       "  </tbody>\n",
       "</table>\n",
       "<p>5 rows × 26 columns</p>\n",
       "</div>"
      ],
      "text/plain": [
       "    _unit_id  _golden _unit_state  _trusted_judgments _last_judgment_at  \\\n",
       "0  815719226    False   finalized                   3    10/26/15 23:24   \n",
       "1  815719227    False   finalized                   3    10/26/15 23:30   \n",
       "2  815719228    False   finalized                   3    10/26/15 23:33   \n",
       "3  815719229    False   finalized                   3    10/26/15 23:10   \n",
       "4  815719230    False   finalized                   3     10/27/15 1:15   \n",
       "\n",
       "   gender  gender:confidence profile_yn  profile_yn:confidence  \\\n",
       "0    male             1.0000        yes                    1.0   \n",
       "1    male             1.0000        yes                    1.0   \n",
       "2    male             0.6625        yes                    1.0   \n",
       "3    male             1.0000        yes                    1.0   \n",
       "4  female             1.0000        yes                    1.0   \n",
       "\n",
       "          created  ...                                       profileimage  \\\n",
       "0    12/5/13 1:48  ...  https://pbs.twimg.com/profile_images/414342229...   \n",
       "1   10/1/12 13:51  ...  https://pbs.twimg.com/profile_images/539604221...   \n",
       "2  11/28/14 11:30  ...  https://pbs.twimg.com/profile_images/657330418...   \n",
       "3   6/11/09 22:39  ...  https://pbs.twimg.com/profile_images/259703936...   \n",
       "4   4/16/14 13:23  ...  https://pbs.twimg.com/profile_images/564094871...   \n",
       "\n",
       "   retweet_count sidebar_color  \\\n",
       "0              0        FFFFFF   \n",
       "1              0        C0DEED   \n",
       "2              1        C0DEED   \n",
       "3              0        C0DEED   \n",
       "4              0             0   \n",
       "\n",
       "                                                text tweet_coord tweet_count  \\\n",
       "0  Robbie E Responds To Critics After Win Against...         NaN      110964   \n",
       "1  ���It felt like they were my friends and I was...         NaN        7471   \n",
       "2  i absolutely adore when louis starts the songs...         NaN        5617   \n",
       "3  Hi @JordanSpieth - Looking at the url - do you...         NaN        1693   \n",
       "4  Watching Neighbours on Sky+ catching up with t...         NaN       31462   \n",
       "\n",
       "    tweet_created      tweet_id   tweet_location               user_timezone  \n",
       "0  10/26/15 12:40  6.587300e+17  main; @Kan1shk3                     Chennai  \n",
       "1  10/26/15 12:40  6.587300e+17              NaN  Eastern Time (US & Canada)  \n",
       "2  10/26/15 12:40  6.587300e+17           clcncl                    Belgrade  \n",
       "3  10/26/15 12:40  6.587300e+17    Palo Alto, CA  Pacific Time (US & Canada)  \n",
       "4  10/26/15 12:40  6.587300e+17              NaN                         NaN  \n",
       "\n",
       "[5 rows x 26 columns]"
      ]
     },
     "execution_count": 2,
     "metadata": {},
     "output_type": "execute_result"
    }
   ],
   "source": [
    "twitter_data=pd.read_csv(\"twitter-data.csv\")\n",
    "twitter_data.head(5)"
   ]
  },
  {
   "cell_type": "markdown",
   "id": "8a379923",
   "metadata": {},
   "source": [
    "## Setting ‘_unit_id’ as the index column"
   ]
  },
  {
   "cell_type": "code",
   "execution_count": 3,
   "id": "79d4b821",
   "metadata": {},
   "outputs": [
    {
     "data": {
      "text/html": [
       "<div>\n",
       "<style scoped>\n",
       "    .dataframe tbody tr th:only-of-type {\n",
       "        vertical-align: middle;\n",
       "    }\n",
       "\n",
       "    .dataframe tbody tr th {\n",
       "        vertical-align: top;\n",
       "    }\n",
       "\n",
       "    .dataframe thead th {\n",
       "        text-align: right;\n",
       "    }\n",
       "</style>\n",
       "<table border=\"1\" class=\"dataframe\">\n",
       "  <thead>\n",
       "    <tr style=\"text-align: right;\">\n",
       "      <th></th>\n",
       "      <th>_golden</th>\n",
       "      <th>_unit_state</th>\n",
       "      <th>_trusted_judgments</th>\n",
       "      <th>_last_judgment_at</th>\n",
       "      <th>gender</th>\n",
       "      <th>gender:confidence</th>\n",
       "      <th>profile_yn</th>\n",
       "      <th>profile_yn:confidence</th>\n",
       "      <th>created</th>\n",
       "      <th>description</th>\n",
       "      <th>...</th>\n",
       "      <th>profileimage</th>\n",
       "      <th>retweet_count</th>\n",
       "      <th>sidebar_color</th>\n",
       "      <th>text</th>\n",
       "      <th>tweet_coord</th>\n",
       "      <th>tweet_count</th>\n",
       "      <th>tweet_created</th>\n",
       "      <th>tweet_id</th>\n",
       "      <th>tweet_location</th>\n",
       "      <th>user_timezone</th>\n",
       "    </tr>\n",
       "    <tr>\n",
       "      <th>_unit_id</th>\n",
       "      <th></th>\n",
       "      <th></th>\n",
       "      <th></th>\n",
       "      <th></th>\n",
       "      <th></th>\n",
       "      <th></th>\n",
       "      <th></th>\n",
       "      <th></th>\n",
       "      <th></th>\n",
       "      <th></th>\n",
       "      <th></th>\n",
       "      <th></th>\n",
       "      <th></th>\n",
       "      <th></th>\n",
       "      <th></th>\n",
       "      <th></th>\n",
       "      <th></th>\n",
       "      <th></th>\n",
       "      <th></th>\n",
       "      <th></th>\n",
       "      <th></th>\n",
       "    </tr>\n",
       "  </thead>\n",
       "  <tbody>\n",
       "    <tr>\n",
       "      <th>815719226</th>\n",
       "      <td>False</td>\n",
       "      <td>finalized</td>\n",
       "      <td>3</td>\n",
       "      <td>10/26/15 23:24</td>\n",
       "      <td>male</td>\n",
       "      <td>1.0000</td>\n",
       "      <td>yes</td>\n",
       "      <td>1.0</td>\n",
       "      <td>12/5/13 1:48</td>\n",
       "      <td>i sing my own rhythm.</td>\n",
       "      <td>...</td>\n",
       "      <td>https://pbs.twimg.com/profile_images/414342229...</td>\n",
       "      <td>0</td>\n",
       "      <td>FFFFFF</td>\n",
       "      <td>Robbie E Responds To Critics After Win Against...</td>\n",
       "      <td>NaN</td>\n",
       "      <td>110964</td>\n",
       "      <td>10/26/15 12:40</td>\n",
       "      <td>6.587300e+17</td>\n",
       "      <td>main; @Kan1shk3</td>\n",
       "      <td>Chennai</td>\n",
       "    </tr>\n",
       "    <tr>\n",
       "      <th>815719227</th>\n",
       "      <td>False</td>\n",
       "      <td>finalized</td>\n",
       "      <td>3</td>\n",
       "      <td>10/26/15 23:30</td>\n",
       "      <td>male</td>\n",
       "      <td>1.0000</td>\n",
       "      <td>yes</td>\n",
       "      <td>1.0</td>\n",
       "      <td>10/1/12 13:51</td>\n",
       "      <td>I'm the author of novels filled with family dr...</td>\n",
       "      <td>...</td>\n",
       "      <td>https://pbs.twimg.com/profile_images/539604221...</td>\n",
       "      <td>0</td>\n",
       "      <td>C0DEED</td>\n",
       "      <td>���It felt like they were my friends and I was...</td>\n",
       "      <td>NaN</td>\n",
       "      <td>7471</td>\n",
       "      <td>10/26/15 12:40</td>\n",
       "      <td>6.587300e+17</td>\n",
       "      <td>NaN</td>\n",
       "      <td>Eastern Time (US &amp; Canada)</td>\n",
       "    </tr>\n",
       "    <tr>\n",
       "      <th>815719228</th>\n",
       "      <td>False</td>\n",
       "      <td>finalized</td>\n",
       "      <td>3</td>\n",
       "      <td>10/26/15 23:33</td>\n",
       "      <td>male</td>\n",
       "      <td>0.6625</td>\n",
       "      <td>yes</td>\n",
       "      <td>1.0</td>\n",
       "      <td>11/28/14 11:30</td>\n",
       "      <td>louis whining and squealing and all</td>\n",
       "      <td>...</td>\n",
       "      <td>https://pbs.twimg.com/profile_images/657330418...</td>\n",
       "      <td>1</td>\n",
       "      <td>C0DEED</td>\n",
       "      <td>i absolutely adore when louis starts the songs...</td>\n",
       "      <td>NaN</td>\n",
       "      <td>5617</td>\n",
       "      <td>10/26/15 12:40</td>\n",
       "      <td>6.587300e+17</td>\n",
       "      <td>clcncl</td>\n",
       "      <td>Belgrade</td>\n",
       "    </tr>\n",
       "    <tr>\n",
       "      <th>815719229</th>\n",
       "      <td>False</td>\n",
       "      <td>finalized</td>\n",
       "      <td>3</td>\n",
       "      <td>10/26/15 23:10</td>\n",
       "      <td>male</td>\n",
       "      <td>1.0000</td>\n",
       "      <td>yes</td>\n",
       "      <td>1.0</td>\n",
       "      <td>6/11/09 22:39</td>\n",
       "      <td>Mobile guy.  49ers, Shazam, Google, Kleiner Pe...</td>\n",
       "      <td>...</td>\n",
       "      <td>https://pbs.twimg.com/profile_images/259703936...</td>\n",
       "      <td>0</td>\n",
       "      <td>C0DEED</td>\n",
       "      <td>Hi @JordanSpieth - Looking at the url - do you...</td>\n",
       "      <td>NaN</td>\n",
       "      <td>1693</td>\n",
       "      <td>10/26/15 12:40</td>\n",
       "      <td>6.587300e+17</td>\n",
       "      <td>Palo Alto, CA</td>\n",
       "      <td>Pacific Time (US &amp; Canada)</td>\n",
       "    </tr>\n",
       "    <tr>\n",
       "      <th>815719230</th>\n",
       "      <td>False</td>\n",
       "      <td>finalized</td>\n",
       "      <td>3</td>\n",
       "      <td>10/27/15 1:15</td>\n",
       "      <td>female</td>\n",
       "      <td>1.0000</td>\n",
       "      <td>yes</td>\n",
       "      <td>1.0</td>\n",
       "      <td>4/16/14 13:23</td>\n",
       "      <td>Ricky Wilson The Best FRONTMAN/Kaiser Chiefs T...</td>\n",
       "      <td>...</td>\n",
       "      <td>https://pbs.twimg.com/profile_images/564094871...</td>\n",
       "      <td>0</td>\n",
       "      <td>0</td>\n",
       "      <td>Watching Neighbours on Sky+ catching up with t...</td>\n",
       "      <td>NaN</td>\n",
       "      <td>31462</td>\n",
       "      <td>10/26/15 12:40</td>\n",
       "      <td>6.587300e+17</td>\n",
       "      <td>NaN</td>\n",
       "      <td>NaN</td>\n",
       "    </tr>\n",
       "    <tr>\n",
       "      <th>...</th>\n",
       "      <td>...</td>\n",
       "      <td>...</td>\n",
       "      <td>...</td>\n",
       "      <td>...</td>\n",
       "      <td>...</td>\n",
       "      <td>...</td>\n",
       "      <td>...</td>\n",
       "      <td>...</td>\n",
       "      <td>...</td>\n",
       "      <td>...</td>\n",
       "      <td>...</td>\n",
       "      <td>...</td>\n",
       "      <td>...</td>\n",
       "      <td>...</td>\n",
       "      <td>...</td>\n",
       "      <td>...</td>\n",
       "      <td>...</td>\n",
       "      <td>...</td>\n",
       "      <td>...</td>\n",
       "      <td>...</td>\n",
       "      <td>...</td>\n",
       "    </tr>\n",
       "    <tr>\n",
       "      <th>815757572</th>\n",
       "      <td>True</td>\n",
       "      <td>golden</td>\n",
       "      <td>259</td>\n",
       "      <td>NaN</td>\n",
       "      <td>female</td>\n",
       "      <td>1.0000</td>\n",
       "      <td>yes</td>\n",
       "      <td>1.0</td>\n",
       "      <td>8/5/15 21:16</td>\n",
       "      <td>(rp)</td>\n",
       "      <td>...</td>\n",
       "      <td>https://pbs.twimg.com/profile_images/656793310...</td>\n",
       "      <td>0</td>\n",
       "      <td>C0DEED</td>\n",
       "      <td>@lookupondeath ...Fine, and I'll drink tea too...</td>\n",
       "      <td>NaN</td>\n",
       "      <td>783</td>\n",
       "      <td>10/26/15 13:20</td>\n",
       "      <td>6.587400e+17</td>\n",
       "      <td>Verona ���</td>\n",
       "      <td>NaN</td>\n",
       "    </tr>\n",
       "    <tr>\n",
       "      <th>815757681</th>\n",
       "      <td>True</td>\n",
       "      <td>golden</td>\n",
       "      <td>248</td>\n",
       "      <td>NaN</td>\n",
       "      <td>male</td>\n",
       "      <td>1.0000</td>\n",
       "      <td>yes</td>\n",
       "      <td>1.0</td>\n",
       "      <td>8/15/12 21:17</td>\n",
       "      <td>Whatever you like, it's not a problem at all. ...</td>\n",
       "      <td>...</td>\n",
       "      <td>https://pbs.twimg.com/profile_images/639815429...</td>\n",
       "      <td>0</td>\n",
       "      <td>0</td>\n",
       "      <td>Greg Hardy you a good player and all but don't...</td>\n",
       "      <td>NaN</td>\n",
       "      <td>13523</td>\n",
       "      <td>10/26/15 12:40</td>\n",
       "      <td>6.587300e+17</td>\n",
       "      <td>Kansas City, MO</td>\n",
       "      <td>NaN</td>\n",
       "    </tr>\n",
       "    <tr>\n",
       "      <th>815757830</th>\n",
       "      <td>True</td>\n",
       "      <td>golden</td>\n",
       "      <td>264</td>\n",
       "      <td>NaN</td>\n",
       "      <td>male</td>\n",
       "      <td>1.0000</td>\n",
       "      <td>yes</td>\n",
       "      <td>1.0</td>\n",
       "      <td>9/3/12 1:17</td>\n",
       "      <td>#TeamBarcelona ..You look lost so you should f...</td>\n",
       "      <td>...</td>\n",
       "      <td>https://pbs.twimg.com/profile_images/655473271...</td>\n",
       "      <td>0</td>\n",
       "      <td>C0DEED</td>\n",
       "      <td>You can miss people and still never want to se...</td>\n",
       "      <td>NaN</td>\n",
       "      <td>26419</td>\n",
       "      <td>10/26/15 13:20</td>\n",
       "      <td>6.587400e+17</td>\n",
       "      <td>Lagos Nigeria</td>\n",
       "      <td>NaN</td>\n",
       "    </tr>\n",
       "    <tr>\n",
       "      <th>815757921</th>\n",
       "      <td>True</td>\n",
       "      <td>golden</td>\n",
       "      <td>250</td>\n",
       "      <td>NaN</td>\n",
       "      <td>female</td>\n",
       "      <td>0.8489</td>\n",
       "      <td>yes</td>\n",
       "      <td>1.0</td>\n",
       "      <td>11/6/12 23:46</td>\n",
       "      <td>Anti-statist; I homeschool my kids. Aspiring t...</td>\n",
       "      <td>...</td>\n",
       "      <td>https://pbs.twimg.com/profile_images/657716093...</td>\n",
       "      <td>0</td>\n",
       "      <td>0</td>\n",
       "      <td>@bitemyapp i had noticed your tendency to pee ...</td>\n",
       "      <td>NaN</td>\n",
       "      <td>56073</td>\n",
       "      <td>10/26/15 12:40</td>\n",
       "      <td>6.587300e+17</td>\n",
       "      <td>Texas Hill Country</td>\n",
       "      <td>NaN</td>\n",
       "    </tr>\n",
       "    <tr>\n",
       "      <th>815757985</th>\n",
       "      <td>True</td>\n",
       "      <td>golden</td>\n",
       "      <td>249</td>\n",
       "      <td>NaN</td>\n",
       "      <td>female</td>\n",
       "      <td>1.0000</td>\n",
       "      <td>yes</td>\n",
       "      <td>1.0</td>\n",
       "      <td>4/14/14 17:22</td>\n",
       "      <td>Teamwork makes the dream work.</td>\n",
       "      <td>...</td>\n",
       "      <td>https://pbs.twimg.com/profile_images/655134724...</td>\n",
       "      <td>0</td>\n",
       "      <td>C0DEED</td>\n",
       "      <td>I think for my APUSH creative project I'm goin...</td>\n",
       "      <td>NaN</td>\n",
       "      <td>2922</td>\n",
       "      <td>10/26/15 13:19</td>\n",
       "      <td>6.587400e+17</td>\n",
       "      <td>NaN</td>\n",
       "      <td>NaN</td>\n",
       "    </tr>\n",
       "  </tbody>\n",
       "</table>\n",
       "<p>20050 rows × 25 columns</p>\n",
       "</div>"
      ],
      "text/plain": [
       "           _golden _unit_state  _trusted_judgments _last_judgment_at  gender  \\\n",
       "_unit_id                                                                       \n",
       "815719226    False   finalized                   3    10/26/15 23:24    male   \n",
       "815719227    False   finalized                   3    10/26/15 23:30    male   \n",
       "815719228    False   finalized                   3    10/26/15 23:33    male   \n",
       "815719229    False   finalized                   3    10/26/15 23:10    male   \n",
       "815719230    False   finalized                   3     10/27/15 1:15  female   \n",
       "...            ...         ...                 ...               ...     ...   \n",
       "815757572     True      golden                 259               NaN  female   \n",
       "815757681     True      golden                 248               NaN    male   \n",
       "815757830     True      golden                 264               NaN    male   \n",
       "815757921     True      golden                 250               NaN  female   \n",
       "815757985     True      golden                 249               NaN  female   \n",
       "\n",
       "           gender:confidence profile_yn  profile_yn:confidence  \\\n",
       "_unit_id                                                         \n",
       "815719226             1.0000        yes                    1.0   \n",
       "815719227             1.0000        yes                    1.0   \n",
       "815719228             0.6625        yes                    1.0   \n",
       "815719229             1.0000        yes                    1.0   \n",
       "815719230             1.0000        yes                    1.0   \n",
       "...                      ...        ...                    ...   \n",
       "815757572             1.0000        yes                    1.0   \n",
       "815757681             1.0000        yes                    1.0   \n",
       "815757830             1.0000        yes                    1.0   \n",
       "815757921             0.8489        yes                    1.0   \n",
       "815757985             1.0000        yes                    1.0   \n",
       "\n",
       "                  created                                        description  \\\n",
       "_unit_id                                                                       \n",
       "815719226    12/5/13 1:48                              i sing my own rhythm.   \n",
       "815719227   10/1/12 13:51  I'm the author of novels filled with family dr...   \n",
       "815719228  11/28/14 11:30                louis whining and squealing and all   \n",
       "815719229   6/11/09 22:39  Mobile guy.  49ers, Shazam, Google, Kleiner Pe...   \n",
       "815719230   4/16/14 13:23  Ricky Wilson The Best FRONTMAN/Kaiser Chiefs T...   \n",
       "...                   ...                                                ...   \n",
       "815757572    8/5/15 21:16                                               (rp)   \n",
       "815757681   8/15/12 21:17  Whatever you like, it's not a problem at all. ...   \n",
       "815757830     9/3/12 1:17  #TeamBarcelona ..You look lost so you should f...   \n",
       "815757921   11/6/12 23:46  Anti-statist; I homeschool my kids. Aspiring t...   \n",
       "815757985   4/14/14 17:22                     Teamwork makes the dream work.   \n",
       "\n",
       "           ...                                       profileimage  \\\n",
       "_unit_id   ...                                                      \n",
       "815719226  ...  https://pbs.twimg.com/profile_images/414342229...   \n",
       "815719227  ...  https://pbs.twimg.com/profile_images/539604221...   \n",
       "815719228  ...  https://pbs.twimg.com/profile_images/657330418...   \n",
       "815719229  ...  https://pbs.twimg.com/profile_images/259703936...   \n",
       "815719230  ...  https://pbs.twimg.com/profile_images/564094871...   \n",
       "...        ...                                                ...   \n",
       "815757572  ...  https://pbs.twimg.com/profile_images/656793310...   \n",
       "815757681  ...  https://pbs.twimg.com/profile_images/639815429...   \n",
       "815757830  ...  https://pbs.twimg.com/profile_images/655473271...   \n",
       "815757921  ...  https://pbs.twimg.com/profile_images/657716093...   \n",
       "815757985  ...  https://pbs.twimg.com/profile_images/655134724...   \n",
       "\n",
       "          retweet_count sidebar_color  \\\n",
       "_unit_id                                \n",
       "815719226             0        FFFFFF   \n",
       "815719227             0        C0DEED   \n",
       "815719228             1        C0DEED   \n",
       "815719229             0        C0DEED   \n",
       "815719230             0             0   \n",
       "...                 ...           ...   \n",
       "815757572             0        C0DEED   \n",
       "815757681             0             0   \n",
       "815757830             0        C0DEED   \n",
       "815757921             0             0   \n",
       "815757985             0        C0DEED   \n",
       "\n",
       "                                                        text tweet_coord  \\\n",
       "_unit_id                                                                   \n",
       "815719226  Robbie E Responds To Critics After Win Against...         NaN   \n",
       "815719227  ���It felt like they were my friends and I was...         NaN   \n",
       "815719228  i absolutely adore when louis starts the songs...         NaN   \n",
       "815719229  Hi @JordanSpieth - Looking at the url - do you...         NaN   \n",
       "815719230  Watching Neighbours on Sky+ catching up with t...         NaN   \n",
       "...                                                      ...         ...   \n",
       "815757572  @lookupondeath ...Fine, and I'll drink tea too...         NaN   \n",
       "815757681  Greg Hardy you a good player and all but don't...         NaN   \n",
       "815757830  You can miss people and still never want to se...         NaN   \n",
       "815757921  @bitemyapp i had noticed your tendency to pee ...         NaN   \n",
       "815757985  I think for my APUSH creative project I'm goin...         NaN   \n",
       "\n",
       "          tweet_count   tweet_created      tweet_id      tweet_location  \\\n",
       "_unit_id                                                                  \n",
       "815719226      110964  10/26/15 12:40  6.587300e+17     main; @Kan1shk3   \n",
       "815719227        7471  10/26/15 12:40  6.587300e+17                 NaN   \n",
       "815719228        5617  10/26/15 12:40  6.587300e+17              clcncl   \n",
       "815719229        1693  10/26/15 12:40  6.587300e+17       Palo Alto, CA   \n",
       "815719230       31462  10/26/15 12:40  6.587300e+17                 NaN   \n",
       "...               ...             ...           ...                 ...   \n",
       "815757572         783  10/26/15 13:20  6.587400e+17          Verona ���   \n",
       "815757681       13523  10/26/15 12:40  6.587300e+17     Kansas City, MO   \n",
       "815757830       26419  10/26/15 13:20  6.587400e+17      Lagos Nigeria    \n",
       "815757921       56073  10/26/15 12:40  6.587300e+17  Texas Hill Country   \n",
       "815757985        2922  10/26/15 13:19  6.587400e+17                 NaN   \n",
       "\n",
       "                        user_timezone  \n",
       "_unit_id                               \n",
       "815719226                     Chennai  \n",
       "815719227  Eastern Time (US & Canada)  \n",
       "815719228                    Belgrade  \n",
       "815719229  Pacific Time (US & Canada)  \n",
       "815719230                         NaN  \n",
       "...                               ...  \n",
       "815757572                         NaN  \n",
       "815757681                         NaN  \n",
       "815757830                         NaN  \n",
       "815757921                         NaN  \n",
       "815757985                         NaN  \n",
       "\n",
       "[20050 rows x 25 columns]"
      ]
     },
     "execution_count": 3,
     "metadata": {},
     "output_type": "execute_result"
    }
   ],
   "source": [
    "twitter_data.set_index('_unit_id')"
   ]
  },
  {
   "cell_type": "markdown",
   "id": "51519316",
   "metadata": {},
   "source": [
    "## 1. Handling Gender types in the dataset"
   ]
  },
  {
   "cell_type": "code",
   "execution_count": 4,
   "id": "c0ad9f96",
   "metadata": {},
   "outputs": [
    {
     "data": {
      "text/plain": [
       "array(['male', 'female', 'brand', 'unknown', nan], dtype=object)"
      ]
     },
     "execution_count": 4,
     "metadata": {},
     "output_type": "execute_result"
    }
   ],
   "source": [
    "twitter_data.gender.unique()"
   ]
  },
  {
   "cell_type": "markdown",
   "id": "01985e25",
   "metadata": {},
   "source": [
    "**We observe that there are five gender types available in the dataset. However, we will need three (male, female, brand) for our model. Below we remove the redundant gender types.**"
   ]
  },
  {
   "cell_type": "code",
   "execution_count": 5,
   "id": "ff78763f",
   "metadata": {},
   "outputs": [
    {
     "data": {
      "text/plain": [
       "array(['male', 'female', 'brand'], dtype=object)"
      ]
     },
     "execution_count": 5,
     "metadata": {},
     "output_type": "execute_result"
    }
   ],
   "source": [
    "twitter_data=twitter_data[twitter_data.gender != \"unknown\"]\n",
    "twitter_data = twitter_data.dropna(subset=['gender'])\n",
    "twitter_data.gender.unique()"
   ]
  },
  {
   "cell_type": "markdown",
   "id": "5f904f2e",
   "metadata": {},
   "source": [
    "# 2. Exploratory Data Analysis \n"
   ]
  },
  {
   "cell_type": "markdown",
   "id": "12f53636",
   "metadata": {},
   "source": [
    "### 2.1 Univariate data analysis on the dataset"
   ]
  },
  {
   "cell_type": "markdown",
   "id": "e41b2a76",
   "metadata": {},
   "source": [
    "### 2.1.1 Gender ditribution among the users."
   ]
  },
  {
   "cell_type": "code",
   "execution_count": 6,
   "id": "4535c111",
   "metadata": {},
   "outputs": [
    {
     "data": {
      "text/plain": [
       "<AxesSubplot:title={'center':'Gender distribution among Users'}, ylabel='No. of Users'>"
      ]
     },
     "execution_count": 6,
     "metadata": {},
     "output_type": "execute_result"
    },
    {
     "data": {
      "image/png": "[encoded data removed]",
      "text/plain": [
       "<Figure size 1080x576 with 1 Axes>"
      ]
     },
     "metadata": {
      "needs_background": "light"
     },
     "output_type": "display_data"
    }
   ],
   "source": [
    "plt.figure(figsize=(15,8))\n",
    "plt.title('Gender distribution among Users', fontsize = 20)\n",
    "plt.ylabel('No. of Users', fontsize = 14)\n",
    "twitter_data['gender'].value_counts().plot(kind='bar')"
   ]
  },
  {
   "cell_type": "markdown",
   "id": "a81d5692",
   "metadata": {},
   "source": [
    "**We observe that 'Females' is the most popular gender.**"
   ]
  },
  {
   "cell_type": "markdown",
   "id": "979d004e",
   "metadata": {},
   "source": [
    "### 2.1.2 Link colour choices among all Users"
   ]
  },
  {
   "cell_type": "code",
   "execution_count": 7,
   "id": "86343139",
   "metadata": {},
   "outputs": [
    {
     "data": {
      "text/plain": [
       "2882"
      ]
     },
     "execution_count": 7,
     "metadata": {},
     "output_type": "execute_result"
    }
   ],
   "source": [
    "n = len(pd.unique(twitter_data['link_color']))\n",
    "n"
   ]
  },
  {
   "cell_type": "markdown",
   "id": "ba3883a6",
   "metadata": {},
   "source": [
    "**We observe that Users have chosen 2882 unique colours which will pose a challenge to visualize. A better approach would be to pick top 5 most preferred colour choices.**"
   ]
  },
  {
   "cell_type": "markdown",
   "id": "d41e4005",
   "metadata": {},
   "source": [
    "**P.S. all colours are referred to by their hexadecimal values in the dataset**"
   ]
  },
  {
   "cell_type": "code",
   "execution_count": 8,
   "id": "1dc98924",
   "metadata": {},
   "outputs": [
    {
     "data": {
      "text/plain": [
       "<AxesSubplot:title={'center':'Top 5 preferred link colour choices among all Users'}, xlabel='link_color', ylabel='No. of Users'>"
      ]
     },
     "execution_count": 8,
     "metadata": {},
     "output_type": "execute_result"
    },
    {
     "data": {
      "image/png": "[encoded data removed]",
      "text/plain": [
       "<Figure size 1080x576 with 1 Axes>"
      ]
     },
     "metadata": {
      "needs_background": "light"
     },
     "output_type": "display_data"
    }
   ],
   "source": [
    "allusers_link = twitter_data.pivot_table(index = ['link_color'], aggfunc ='size')\n",
    "plt.figure(figsize=(15,8))\n",
    "plt.title('Top 5 preferred link colour choices among all Users', fontsize = 20)\n",
    "plt.ylabel('No. of Users', fontsize = 14)\n",
    "allusers_link.sort_values(ascending = False).head(5).plot(kind='bar')"
   ]
  },
  {
   "cell_type": "markdown",
   "id": "b330ca3d",
   "metadata": {},
   "source": [
    "### 2.1.3 Sidebar colour choices among all Users"
   ]
  },
  {
   "cell_type": "code",
   "execution_count": 9,
   "id": "c550dbb5",
   "metadata": {},
   "outputs": [
    {
     "data": {
      "text/plain": [
       "545"
      ]
     },
     "execution_count": 9,
     "metadata": {},
     "output_type": "execute_result"
    }
   ],
   "source": [
    "n = len(pd.unique(twitter_data['sidebar_color']))\n",
    "n"
   ]
  },
  {
   "cell_type": "markdown",
   "id": "576a99d6",
   "metadata": {},
   "source": [
    "**We observe that Users have chosen 545 unique colours which will pose a challenge to visualize. A better approach would be to pick top 5 most preferred colour choices.**"
   ]
  },
  {
   "cell_type": "markdown",
   "id": "a856115b",
   "metadata": {},
   "source": [
    "**P.S. all colours are referred to by their hexadecimal values in the dataset**"
   ]
  },
  {
   "cell_type": "code",
   "execution_count": 10,
   "id": "1c3d3a5d",
   "metadata": {},
   "outputs": [
    {
     "data": {
      "text/plain": [
       "<AxesSubplot:title={'center':'Top 5 preferred Sidebar colour choices among all Users'}, xlabel='sidebar_color', ylabel='No. of Users'>"
      ]
     },
     "execution_count": 10,
     "metadata": {},
     "output_type": "execute_result"
    },
    {
     "data": {
      "image/png": "[encoded data removed]",
      "text/plain": [
       "<Figure size 1080x576 with 1 Axes>"
      ]
     },
     "metadata": {
      "needs_background": "light"
     },
     "output_type": "display_data"
    }
   ],
   "source": [
    "allusers_side = twitter_data.pivot_table(index = ['sidebar_color'], aggfunc ='size')\n",
    "plt.figure(figsize=(15,8))\n",
    "plt.title('Top 5 preferred Sidebar colour choices among all Users', fontsize = 20)\n",
    "plt.ylabel('No. of Users', fontsize = 14)\n",
    "allusers_side.sort_values(ascending = False).head(5).plot(kind='bar')"
   ]
  },
  {
   "cell_type": "markdown",
   "id": "cb8c95fd",
   "metadata": {},
   "source": [
    "### 2.2 Univariate data analysis on the dataset"
   ]
  },
  {
   "cell_type": "markdown",
   "id": "e114d313",
   "metadata": {},
   "source": [
    "### 2.2.1 Is there a gender bias in choice of colours for link colour?"
   ]
  },
  {
   "cell_type": "markdown",
   "id": "e3e7262a",
   "metadata": {},
   "source": [
    "**Below we add another categorical variable (gender) to the attribute 'link_colour' to analyze whether there is a gender bias when a colour is chosen**"
   ]
  },
  {
   "cell_type": "code",
   "execution_count": 11,
   "id": "4627d87f",
   "metadata": {},
   "outputs": [
    {
     "data": {
      "image/png": "[encoded data removed]",
      "text/plain": [
       "<Figure size 1440x576 with 2 Axes>"
      ]
     },
     "metadata": {
      "needs_background": "light"
     },
     "output_type": "display_data"
    }
   ],
   "source": [
    "fig, (ax1, ax2) = plt.subplots(1,2, figsize=(20,8))\n",
    "twitter_data.pivot_table(index = ['link_color'], aggfunc ='size').sort_values(ascending = False).head(5).plot(kind='bar', ax=ax1).set_title(\"Top 5 preferred Link colour choices among all Users\")\n",
    "twitter_data[twitter_data.gender == \"male\"].pivot_table(index = ['link_color'], aggfunc ='size').sort_values(ascending = False).head(5).plot(kind='bar', ax=ax2).set_title(\"Top 5 preferred link colour choices among Males\")\n",
    "plt.show()"
   ]
  },
  {
   "cell_type": "markdown",
   "id": "6bc200cf",
   "metadata": {},
   "source": [
    "**In the above graph we compare Males' choices for a link colour on the profile.**"
   ]
  },
  {
   "cell_type": "code",
   "execution_count": 12,
   "id": "afb17201",
   "metadata": {},
   "outputs": [
    {
     "data": {
      "image/png": "[encoded data removed]",
      "text/plain": [
       "<Figure size 1440x576 with 2 Axes>"
      ]
     },
     "metadata": {
      "needs_background": "light"
     },
     "output_type": "display_data"
    }
   ],
   "source": [
    "fig, (ax1, ax2) = plt.subplots(1,2, figsize=(20,8))\n",
    "twitter_data.pivot_table(index = ['link_color'], aggfunc ='size').sort_values(ascending = False).head(5).plot(kind='bar', ax=ax1).set_title(\"Top 5 preferred Link colour choices among all Users\")\n",
    "twitter_data[twitter_data.gender == \"female\"].pivot_table(index = ['link_color'], aggfunc ='size').sort_values(ascending = False).head(5).plot(kind='bar', ax=ax2).set_title(\"Top 5 preferred link colour choices among Females\")\n",
    "plt.show()"
   ]
  },
  {
   "cell_type": "markdown",
   "id": "328ae99a",
   "metadata": {},
   "source": [
    "**In the above graph we compare Females' choices for a link colour on the profile.**"
   ]
  },
  {
   "cell_type": "code",
   "execution_count": 13,
   "id": "02c78c36",
   "metadata": {},
   "outputs": [
    {
     "data": {
      "image/png": "[encoded data removed]",
      "text/plain": [
       "<Figure size 1440x576 with 2 Axes>"
      ]
     },
     "metadata": {
      "needs_background": "light"
     },
     "output_type": "display_data"
    }
   ],
   "source": [
    "fig, (ax1, ax2) = plt.subplots(1,2, figsize=(20,8))\n",
    "twitter_data.pivot_table(index = ['link_color'], aggfunc ='size').sort_values(ascending = False).head(5).plot(kind='bar', ax=ax1).set_title(\"Top 5 preferred Link colour choices among all Users\")\n",
    "twitter_data[twitter_data.gender == \"brand\"].pivot_table(index = ['link_color'], aggfunc ='size').sort_values(ascending = False).head(5).plot(kind='bar', ax=ax2).set_title(\"Top 5 preferred link colour choices among Brands\")\n",
    "plt.show()"
   ]
  },
  {
   "cell_type": "markdown",
   "id": "09823747",
   "metadata": {},
   "source": [
    "**In the above graph we compare Brands' choices for a link colour on the profile.**"
   ]
  },
  {
   "cell_type": "markdown",
   "id": "ef34d512",
   "metadata": {},
   "source": [
    "### 2.2.2 Is there a gender bias in choice of colours for Sidebar colour?"
   ]
  },
  {
   "cell_type": "markdown",
   "id": "e1978b6e",
   "metadata": {},
   "source": [
    "**Below we add another categorical variable (gender) to the attribute 'sidebar_colour' to analyze whether there is a gender bias when a colour is chosen**"
   ]
  },
  {
   "cell_type": "code",
   "execution_count": 14,
   "id": "eb84da95",
   "metadata": {},
   "outputs": [
    {
     "data": {
      "image/png": "[encoded data removed]",
      "text/plain": [
       "<Figure size 1440x576 with 2 Axes>"
      ]
     },
     "metadata": {
      "needs_background": "light"
     },
     "output_type": "display_data"
    }
   ],
   "source": [
    "fig, (ax1, ax2) = plt.subplots(1,2, figsize=(20,8))\n",
    "twitter_data.pivot_table(index = ['sidebar_color'], aggfunc ='size').sort_values(ascending = False).head(5).plot(kind='bar', ax=ax1).set_title(\"Top 5 preferred Sidebar colour choices among all Users\")\n",
    "twitter_data[twitter_data.gender == \"male\"].pivot_table(index = ['sidebar_color'], aggfunc ='size').sort_values(ascending = False).head(5).plot(kind='bar', ax=ax2).set_title(\"Top 5 preferred Sidebar colour choices among Males\")\n",
    "plt.show()"
   ]
  },
  {
   "cell_type": "markdown",
   "id": "ac773214",
   "metadata": {},
   "source": [
    "**In the above graph we compare Males' choices for a sidebar colour in their profile.**"
   ]
  },
  {
   "cell_type": "code",
   "execution_count": 15,
   "id": "ab3e3e4d",
   "metadata": {},
   "outputs": [
    {
     "data": {
      "image/png": "[encoded data removed]",
      "text/plain": [
       "<Figure size 1440x576 with 2 Axes>"
      ]
     },
     "metadata": {
      "needs_background": "light"
     },
     "output_type": "display_data"
    }
   ],
   "source": [
    "fig, (ax1, ax2) = plt.subplots(1,2, figsize=(20,8))\n",
    "twitter_data.pivot_table(index = ['sidebar_color'], aggfunc ='size').sort_values(ascending = False).head(5).plot(kind='bar', ax=ax1).set_title(\"Top 5 preferred Sidebar colour choices among all Users\")\n",
    "twitter_data[twitter_data.gender == \"female\"].pivot_table(index = ['sidebar_color'], aggfunc ='size').sort_values(ascending = False).head(5).plot(kind='bar', ax=ax2).set_title(\"Top 5 preferred Sidebar colour choices among Females\")\n",
    "plt.show()"
   ]
  },
  {
   "cell_type": "markdown",
   "id": "0a136ce7",
   "metadata": {},
   "source": [
    "**In the above graph we compare Females' choices for a sidebar colour in their profile.**"
   ]
  },
  {
   "cell_type": "code",
   "execution_count": 16,
   "id": "75ec7f40",
   "metadata": {},
   "outputs": [
    {
     "data": {
      "image/png": "[encoded data removed]",
      "text/plain": [
       "<Figure size 1440x576 with 2 Axes>"
      ]
     },
     "metadata": {
      "needs_background": "light"
     },
     "output_type": "display_data"
    }
   ],
   "source": [
    "fig, (ax1, ax2) = plt.subplots(1,2, figsize=(20,8))\n",
    "twitter_data.pivot_table(index = ['sidebar_color'], aggfunc ='size').sort_values(ascending = False).head(5).plot(kind='bar', ax=ax1).set_title(\"Top 5 preferred Sidebar colour choices among all Users\")\n",
    "twitter_data[twitter_data.gender == \"brand\"].pivot_table(index = ['sidebar_color'], aggfunc ='size').sort_values(ascending = False).head(5).plot(kind='bar', ax=ax2).set_title(\"Top 5 preferred Sidebar colour choices among Brands\")\n",
    "plt.show()"
   ]
  },
  {
   "cell_type": "markdown",
   "id": "2d5e4266",
   "metadata": {},
   "source": [
    "**In the above graph we compare Brands' choices for a sidebar colour in their profile.**"
   ]
  },
  {
   "cell_type": "markdown",
   "id": "8993c803",
   "metadata": {},
   "source": [
    "### 2.2.3 Average no. of tweets for each gender"
   ]
  },
  {
   "cell_type": "code",
   "execution_count": 17,
   "id": "45ba7517",
   "metadata": {},
   "outputs": [
    {
     "data": {
      "text/plain": [
       "<AxesSubplot:xlabel='gender', ylabel='tweet_count'>"
      ]
     },
     "execution_count": 17,
     "metadata": {},
     "output_type": "execute_result"
    },
    {
     "data": {
      "image/png": "[encoded data removed]",
      "text/plain": [
       "<Figure size 432x288 with 1 Axes>"
      ]
     },
     "metadata": {
      "needs_background": "light"
     },
     "output_type": "display_data"
    }
   ],
   "source": [
    "from numpy import average\n",
    "from numpy import sum\n",
    "sns.barplot (x = 'gender', y = 'tweet_count',data = twitter_data, estimator=average)"
   ]
  },
  {
   "cell_type": "markdown",
   "id": "e51ba1ca",
   "metadata": {},
   "source": [
    "### 2.2.4 Average no. of tweets that were added as 'favourites' for each gender"
   ]
  },
  {
   "cell_type": "code",
   "execution_count": 18,
   "id": "2bd522ec",
   "metadata": {},
   "outputs": [
    {
     "data": {
      "text/plain": [
       "<AxesSubplot:xlabel='gender', ylabel='fav_number'>"
      ]
     },
     "execution_count": 18,
     "metadata": {},
     "output_type": "execute_result"
    },
    {
     "data": {
      "image/png": "[encoded data removed]",
      "text/plain": [
       "<Figure size 432x288 with 1 Axes>"
      ]
     },
     "metadata": {
      "needs_background": "light"
     },
     "output_type": "display_data"
    }
   ],
   "source": [
    "sns.barplot (x = 'gender', y = 'fav_number',data = twitter_data, estimator=average)"
   ]
  },
  {
   "cell_type": "markdown",
   "id": "8d0b3632",
   "metadata": {},
   "source": [
    "### 2.2.5 Average no. of tweets that were retweeted for each gender"
   ]
  },
  {
   "cell_type": "code",
   "execution_count": 19,
   "id": "53ddefd4",
   "metadata": {},
   "outputs": [
    {
     "data": {
      "text/plain": [
       "<AxesSubplot:xlabel='gender', ylabel='retweet_count'>"
      ]
     },
     "execution_count": 19,
     "metadata": {},
     "output_type": "execute_result"
    },
    {
     "data": {
      "image/png": "[encoded data removed]",
      "text/plain": [
       "<Figure size 432x288 with 1 Axes>"
      ]
     },
     "metadata": {
      "needs_background": "light"
     },
     "output_type": "display_data"
    }
   ],
   "source": [
    "sns.barplot (x = 'gender', y = 'retweet_count',data = twitter_data, estimator=average)"
   ]
  },
  {
   "cell_type": "code",
   "execution_count": null,
   "id": "cff83ee4",
   "metadata": {},
   "outputs": [],
   "source": []
  }
 ],
 "metadata": {
  "kernelspec": {
   "display_name": "Python 3",
   "language": "python",
   "name": "python3"
  },
  "language_info": {
   "codemirror_mode": {
    "name": "ipython",
    "version": 3
   },
   "file_extension": ".py",
   "mimetype": "text/x-python",
   "name": "python",
   "nbconvert_exporter": "python",
   "pygments_lexer": "ipython3",
   "version": "3.8.8"
  }
 },
 "nbformat": 4,
 "nbformat_minor": 5
}
